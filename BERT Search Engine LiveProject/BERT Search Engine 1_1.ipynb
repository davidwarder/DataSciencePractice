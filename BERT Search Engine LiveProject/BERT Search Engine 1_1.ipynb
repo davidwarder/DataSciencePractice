{
 "cells": [
  {
   "cell_type": "code",
   "execution_count": 1,
   "id": "a1c81933",
   "metadata": {},
   "outputs": [],
   "source": [
    "import spacy\n",
    "import numpy as np\n",
    "import pandas as pd\n",
    "import sklearn as skl\n",
    "from collections import Counter, defaultdict\n",
    "import json\n",
    "from spacy.lang.en.stop_words import STOP_WORDS"
   ]
  },
  {
   "cell_type": "code",
   "execution_count": 2,
   "id": "ff6d29e9",
   "metadata": {},
   "outputs": [],
   "source": [
    "nlp = spacy.load('en_core_web_sm')"
   ]
  },
  {
   "cell_type": "code",
   "execution_count": 3,
   "id": "35796e00",
   "metadata": {},
   "outputs": [],
   "source": [
    "with open('nlp_project.json', 'r') as f:\n",
    "    data = json.load(f)"
   ]
  },
  {
   "cell_type": "code",
   "execution_count": 4,
   "id": "f2f320b1",
   "metadata": {},
   "outputs": [
    {
     "data": {
      "text/plain": [
       "26"
      ]
     },
     "execution_count": 4,
     "metadata": {},
     "output_type": "execute_result"
    }
   ],
   "source": [
    "len(data)"
   ]
  },
  {
   "cell_type": "code",
   "execution_count": 5,
   "id": "999358a9",
   "metadata": {},
   "outputs": [
    {
     "data": {
      "text/plain": [
       "dict_keys(['title', 'text', 'url'])"
      ]
     },
     "execution_count": 5,
     "metadata": {},
     "output_type": "execute_result"
    }
   ],
   "source": [
    "data[0].keys()"
   ]
  },
  {
   "cell_type": "code",
   "execution_count": 6,
   "id": "fa818759",
   "metadata": {},
   "outputs": [
    {
     "name": "stdout",
     "output_type": "stream",
     "text": [
      "Pandemic\n",
      "Epidemiology of HIV/AIDS\n",
      "Antonine Plague\n",
      "Basic reproduction number\n",
      "Bills of mortality\n",
      "Cholera\n",
      "COVID-19 pandemic\n",
      "Crimson Contagion\n",
      "Disease X\n",
      "Event 201\n",
      "HIV/AIDS\n",
      "HIV/AIDS in Yunnan\n",
      "Pandemic prevention\n",
      "Pandemic Severity Assessment Framework\n",
      "Pandemic severity index\n",
      "Plague of Cyprian\n",
      "PREDICT (USAID)\n",
      "1929–1930 psittacosis pandemic\n",
      "Science diplomacy and pandemics\n",
      "Spanish flu\n",
      "Superspreader\n",
      "Swine influenza\n",
      "Targeted immunization strategies\n",
      "Unified Victim Identification System\n",
      "Viral load\n",
      "Virus\n"
     ]
    }
   ],
   "source": [
    "for i, val in enumerate(data):\n",
    "    print(val['title'])"
   ]
  },
  {
   "cell_type": "code",
   "execution_count": 7,
   "id": "c5d2faab",
   "metadata": {},
   "outputs": [],
   "source": [
    "def nlp_process(string1):\n",
    "    string1 = string1.lower()\n",
    "    doc = nlp(string1)\n",
    "    token_list= [token.lemma_ for token in doc if (not token.is_stop and not token.is_punct and not token.pos_ == 'SPACE')]\n",
    "    return(token_list)"
   ]
  },
  {
   "cell_type": "code",
   "execution_count": 8,
   "id": "bf917d6b",
   "metadata": {},
   "outputs": [],
   "source": [
    "for document in data:\n",
    "    document['tokenized_text'] = nlp_process(document['text'])"
   ]
  },
  {
   "cell_type": "code",
   "execution_count": 9,
   "id": "8e6911df",
   "metadata": {},
   "outputs": [],
   "source": [
    "with open('data_mod.json','w') as f:\n",
    "    json.dump(data, f)"
   ]
  },
  {
   "cell_type": "code",
   "execution_count": null,
   "id": "e650cc26",
   "metadata": {},
   "outputs": [],
   "source": []
  }
 ],
 "metadata": {
  "kernelspec": {
   "display_name": "Python 3 (ipykernel)",
   "language": "python",
   "name": "python3"
  },
  "language_info": {
   "codemirror_mode": {
    "name": "ipython",
    "version": 3
   },
   "file_extension": ".py",
   "mimetype": "text/x-python",
   "name": "python",
   "nbconvert_exporter": "python",
   "pygments_lexer": "ipython3",
   "version": "3.9.7"
  }
 },
 "nbformat": 4,
 "nbformat_minor": 5
}
